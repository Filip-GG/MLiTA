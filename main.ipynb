{
 "cells": [
  {
   "cell_type": "markdown",
   "metadata": {},
   "source": [
    "# Класс грамматики"
   ]
  },
  {
   "cell_type": "code",
   "execution_count": 13,
   "metadata": {},
   "outputs": [],
   "source": [
    "class Gramatics_base:\n",
    "    def __init__(self):\n",
    "        self.S = 'o'\n",
    "        self.end = 'end'\n",
    "        s = ['0', '1', '2', '3', '4', '5', '6', '7', '8', '9', 'A', 'B', 'C', 'D', 'E', 'F']\n",
    "        ost = ['o', 'e', 'd']\n",
    "        self.operator = {\n",
    "            'o':list(map(lambda i: ''.join(i), zip(s, ost*6)))+[self.end],\n",
    "            'e':list(map(lambda i: ''.join(i),zip(s, [ost[1], ost[2], ost[0]]*6))),\n",
    "            'd':list(map(lambda i: ''.join(i),zip(s, [ost[2], ost[0], ost[1]]*6)))\n",
    "        }\n",
    "    \n",
    "    def __str__(self):\n",
    "        oper = ''\n",
    "        key = self.operator.keys()\n",
    "        for item in key:\n",
    "            oper +='\\n\\t'+item+' := ' + ' | '.join(self.operator[item])\n",
    "            \n",
    "        return 'Начальная строка:\\n\\n\\tS := '+self.S+'\\n\\nКонец строчки:\\n\\n\\t'+self.end+'\\n\\nОператоры:\\n'+oper"
   ]
  },
  {
   "cell_type": "markdown",
   "metadata": {},
   "source": [
    "# Функция проверки принадлежит ли слово грамматике:"
   ]
  },
  {
   "cell_type": "code",
   "execution_count": 14,
   "metadata": {},
   "outputs": [],
   "source": [
    "class Gramatics(Gramatics_base):\n",
    "    def __init__(self):\n",
    "        super().__init__()\n",
    "    \n",
    "    def belongs2Gramatics(self, num: str):\n",
    "        arr = self.S\n",
    "        razbor = arr\n",
    "        for item in num:\n",
    "            chek = True\n",
    "            for simvol in self.operator[arr[-1]]:\n",
    "                if item == simvol[0]:\n",
    "                    arr = arr[:-1]+simvol\n",
    "                    razbor += ' => '+arr\n",
    "                    chek = False\n",
    "                    break\n",
    "            \n",
    "            if chek:\n",
    "                return False, razbor\n",
    "        \n",
    "        if self.end in self.operator[arr[-1]]:\n",
    "            razbor += ' => '+arr[:-1]\n",
    "            return True, razbor\n",
    "        return False, razbor"
   ]
  },
  {
   "cell_type": "markdown",
   "metadata": {},
   "source": [
    "Вывод системы:"
   ]
  },
  {
   "cell_type": "code",
   "execution_count": 15,
   "metadata": {},
   "outputs": [
    {
     "name": "stdout",
     "output_type": "stream",
     "text": [
      "Начальная строка:\n",
      "\n",
      "\tS := o\n",
      "\n",
      "Конец строчки:\n",
      "\n",
      "\tend\n",
      "\n",
      "Операторы:\n",
      "\n",
      "\to := 0o | 1e | 2d | 3o | 4e | 5d | 6o | 7e | 8d | 9o | Ae | Bd | Co | De | Ed | Fo | end\n",
      "\te := 0e | 1d | 2o | 3e | 4d | 5o | 6e | 7d | 8o | 9e | Ad | Bo | Ce | Dd | Eo | Fe\n",
      "\td := 0d | 1o | 2e | 3d | 4o | 5e | 6d | 7o | 8e | 9d | Ao | Be | Cd | Do | Ee | Fd\n"
     ]
    }
   ],
   "source": [
    "G = Gramatics()\n",
    "print(G)"
   ]
  },
  {
   "cell_type": "markdown",
   "metadata": {},
   "source": [
    "Проверка на принадлежность к системе:"
   ]
  },
  {
   "cell_type": "markdown",
   "metadata": {},
   "source": [
    "Для изменения входных параметров измениете data (он должени представлять собой список целых цисел)"
   ]
  },
  {
   "cell_type": "code",
   "execution_count": 16,
   "metadata": {},
   "outputs": [],
   "source": [
    "from convert import NUMto16"
   ]
  },
  {
   "cell_type": "code",
   "execution_count": 17,
   "metadata": {},
   "outputs": [],
   "source": [
    "\n",
    "data = range(-99, 100, 3)\n",
    "arr = list(map(NUMto16, data))\n",
    "\n",
    "out = list(map(\n",
    "        lambda item:\n",
    "        G.belongs2Gramatics(item),\n",
    "        arr\n",
    "    ))\n",
    "\n",
    "itog = list(zip(\n",
    "    ['']*len(arr),\n",
    "    data,\n",
    "    arr,\n",
    "    map(lambda item: '|'.join(map(str, item)), out),\n",
    "    ['']*len(arr)\n",
    "))"
   ]
  },
  {
   "cell_type": "code",
   "execution_count": 18,
   "metadata": {},
   "outputs": [
    {
     "name": "stdout",
     "output_type": "stream",
     "text": [
      "|-99|63|True|o => 6o => 63o => 63|\n",
      "|-96|60|True|o => 6o => 60o => 60|\n",
      "|-93|5D|True|o => 5d => 5Do => 5D|\n",
      "|-90|5A|True|o => 5d => 5Ao => 5A|\n",
      "|-87|57|True|o => 5d => 57o => 57|\n",
      "|-84|54|True|o => 5d => 54o => 54|\n",
      "|-81|51|True|o => 5d => 51o => 51|\n",
      "|-78|4E|True|o => 4e => 4Eo => 4E|\n",
      "|-75|4B|True|o => 4e => 4Bo => 4B|\n",
      "|-72|48|True|o => 4e => 48o => 48|\n",
      "|-69|45|True|o => 4e => 45o => 45|\n",
      "|-66|42|True|o => 4e => 42o => 42|\n",
      "|-63|3F|True|o => 3o => 3Fo => 3F|\n",
      "|-60|3C|True|o => 3o => 3Co => 3C|\n",
      "|-57|39|True|o => 3o => 39o => 39|\n",
      "|-54|36|True|o => 3o => 36o => 36|\n",
      "|-51|33|True|o => 3o => 33o => 33|\n",
      "|-48|30|True|o => 3o => 30o => 30|\n",
      "|-45|2D|True|o => 2d => 2Do => 2D|\n",
      "|-42|2A|True|o => 2d => 2Ao => 2A|\n",
      "|-39|27|True|o => 2d => 27o => 27|\n",
      "|-36|24|True|o => 2d => 24o => 24|\n",
      "|-33|21|True|o => 2d => 21o => 21|\n",
      "|-30|1E|True|o => 1e => 1Eo => 1E|\n",
      "|-27|1B|True|o => 1e => 1Bo => 1B|\n",
      "|-24|18|True|o => 1e => 18o => 18|\n",
      "|-21|15|True|o => 1e => 15o => 15|\n",
      "|-18|12|True|o => 1e => 12o => 12|\n",
      "|-15|F|True|o => Fo => F|\n",
      "|-12|C|True|o => Co => C|\n",
      "|-9|9|True|o => 9o => 9|\n",
      "|-6|6|True|o => 6o => 6|\n",
      "|-3|3|True|o => 3o => 3|\n",
      "|0|0|True|o => 0o => 0|\n",
      "|3|3|True|o => 3o => 3|\n",
      "|6|6|True|o => 6o => 6|\n",
      "|9|9|True|o => 9o => 9|\n",
      "|12|C|True|o => Co => C|\n",
      "|15|F|True|o => Fo => F|\n",
      "|18|12|True|o => 1e => 12o => 12|\n",
      "|21|15|True|o => 1e => 15o => 15|\n",
      "|24|18|True|o => 1e => 18o => 18|\n",
      "|27|1B|True|o => 1e => 1Bo => 1B|\n",
      "|30|1E|True|o => 1e => 1Eo => 1E|\n",
      "|33|21|True|o => 2d => 21o => 21|\n",
      "|36|24|True|o => 2d => 24o => 24|\n",
      "|39|27|True|o => 2d => 27o => 27|\n",
      "|42|2A|True|o => 2d => 2Ao => 2A|\n",
      "|45|2D|True|o => 2d => 2Do => 2D|\n",
      "|48|30|True|o => 3o => 30o => 30|\n",
      "|51|33|True|o => 3o => 33o => 33|\n",
      "|54|36|True|o => 3o => 36o => 36|\n",
      "|57|39|True|o => 3o => 39o => 39|\n",
      "|60|3C|True|o => 3o => 3Co => 3C|\n",
      "|63|3F|True|o => 3o => 3Fo => 3F|\n",
      "|66|42|True|o => 4e => 42o => 42|\n",
      "|69|45|True|o => 4e => 45o => 45|\n",
      "|72|48|True|o => 4e => 48o => 48|\n",
      "|75|4B|True|o => 4e => 4Bo => 4B|\n",
      "|78|4E|True|o => 4e => 4Eo => 4E|\n",
      "|81|51|True|o => 5d => 51o => 51|\n",
      "|84|54|True|o => 5d => 54o => 54|\n",
      "|87|57|True|o => 5d => 57o => 57|\n",
      "|90|5A|True|o => 5d => 5Ao => 5A|\n",
      "|93|5D|True|o => 5d => 5Do => 5D|\n",
      "|96|60|True|o => 6o => 60o => 60|\n",
      "|99|63|True|o => 6o => 63o => 63|\n"
     ]
    }
   ],
   "source": [
    "print('\\n'.join(\n",
    "    map(\n",
    "        lambda item:\n",
    "        '|'.join(\n",
    "            map(\n",
    "                str,\n",
    "                item\n",
    "            )\n",
    "        ),\n",
    "        itog\n",
    "    )\n",
    ")\n",
    ")"
   ]
  },
  {
   "cell_type": "markdown",
   "metadata": {},
   "source": [
    "Для проверки любого значения введите данные:"
   ]
  },
  {
   "cell_type": "code",
   "execution_count": 19,
   "metadata": {},
   "outputs": [
    {
     "data": {
      "text/plain": [
       "(False, 'o => Fo => FFo => FFFo')"
      ]
     },
     "execution_count": 19,
     "metadata": {},
     "output_type": "execute_result"
    }
   ],
   "source": [
    "G.belongs2Gramatics(input())"
   ]
  },
  {
   "cell_type": "code",
   "execution_count": null,
   "metadata": {},
   "outputs": [],
   "source": []
  }
 ],
 "metadata": {
  "kernelspec": {
   "display_name": "pythorch",
   "language": "python",
   "name": "python3"
  },
  "language_info": {
   "codemirror_mode": {
    "name": "ipython",
    "version": 3
   },
   "file_extension": ".py",
   "mimetype": "text/x-python",
   "name": "python",
   "nbconvert_exporter": "python",
   "pygments_lexer": "ipython3",
   "version": "3.12.2"
  }
 },
 "nbformat": 4,
 "nbformat_minor": 2
}
